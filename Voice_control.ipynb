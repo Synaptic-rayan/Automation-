{
 "cells": [
  {
   "cell_type": "code",
   "execution_count": 1,
   "id": "6d51873c",
   "metadata": {},
   "outputs": [],
   "source": [
    "import pyttsx3\n",
    "import datetime\n",
    "import speech_recognition as sr\n",
    "import pyaudio\n",
    "import webbrowser as wb"
   ]
  },
  {
   "cell_type": "code",
   "execution_count": null,
   "id": "b7a38e62",
   "metadata": {},
   "outputs": [],
   "source": []
  },
  {
   "cell_type": "code",
   "execution_count": 2,
   "id": "2669c78e",
   "metadata": {},
   "outputs": [],
   "source": [
    "def speak(audio):\n",
    "    eng =pyttsx3.init()\n",
    "    eng.say(audio)\n",
    "    eng.runAndWait()\n",
    "def time():\n",
    "    Time = datetime.datetime.now().strftime(\"%I:%M:%S\")\n",
    "    speak(\"Current time is\")\n",
    "    speak(Time)\n",
    "def date_():\n",
    "    \n",
    "    year=datetime.datetime.now().year\n",
    "    month=datetime.datetime.now().month\n",
    "    date=datetime.datetime.now().day\n",
    "    speak(\"The Date is\")\n",
    "    speak(year)\n",
    "    speak(month)\n",
    "    speak(date)\n",
    "def command():\n",
    "    r = sr.Recognizer()\n",
    "    with sr.Microphone() as source:\n",
    "        print('Listening..')\n",
    "        r.pause_threshold = 1\n",
    "        r.adjust_for_ambient_noise(source)\n",
    "        audio = r.listen(source)\n",
    "    try:\n",
    "        print('Recognizing')\n",
    "        q = r.recognize_google(audio,language='en-us')\n",
    "        print(q)\n",
    "    except Exception as e:\n",
    "        print(e)\n",
    "        print('Say again please')\n",
    "        return \"None\"\n",
    "    return q\n",
    "def search_youtube():\n",
    "    search = command()\n",
    "    speak('Opening youtube')\n",
    "    wb.open('https://www.youtube.com/results?search_query='+search)\n",
    "def search_google():\n",
    "    gs = command()\n",
    "    speak('Opening google')\n",
    "    wb.open('https://www.google.com/search?q=' + gs)\n"
   ]
  },
  {
   "cell_type": "code",
   "execution_count": 3,
   "id": "18137ff3",
   "metadata": {},
   "outputs": [],
   "source": [
    "speak(\"My name is alzer, How can I help you?\")"
   ]
  },
  {
   "cell_type": "code",
   "execution_count": null,
   "id": "bfc37149",
   "metadata": {},
   "outputs": [
    {
     "name": "stdout",
     "output_type": "stream",
     "text": [
      "Listening..\n",
      "Recognizing\n",
      "what is the date today\n",
      "Listening..\n",
      "Recognizing\n",
      "stop\n",
      "Listening..\n",
      "Recognizing\n",
      "\n",
      "Say again please\n",
      "Listening..\n",
      "Recognizing\n",
      "\n",
      "Say again please\n",
      "Listening..\n",
      "Recognizing\n",
      "\n",
      "Say again please\n",
      "Listening..\n",
      "Recognizing\n",
      "\n",
      "Say again please\n",
      "Listening..\n"
     ]
    }
   ],
   "source": [
    "while True:\n",
    "        \n",
    "    q = command().lower()\n",
    "        \n",
    "        \n",
    "    if 'time' in q:\n",
    "            time()\n",
    "    if 'date' in q:\n",
    "            date_()\n",
    "    if 'pig' in q:\n",
    "            speak('smriti gayen is a pig')\n",
    "    if 'how are you' in q:\n",
    "        speak('None of your buisness')\n",
    "    if 'go offline' in q:\n",
    "        speak('System going offline')\n",
    "    if 'alzer' in q:\n",
    "        speak('At yous servies')\n",
    "        break\n",
    "    if 'google' in q:\n",
    "        speak ('What i search for?')\n",
    "        search_google()\n",
    "    if 'open youtube' in q:\n",
    "        speak('what shoud i search for')\n",
    "        search_youtube()"
   ]
  },
  {
   "cell_type": "code",
   "execution_count": null,
   "id": "1f1e27e4",
   "metadata": {},
   "outputs": [],
   "source": []
  }
 ],
 "metadata": {
  "kernelspec": {
   "display_name": "Python 3 (ipykernel)",
   "language": "python",
   "name": "python3"
  },
  "language_info": {
   "codemirror_mode": {
    "name": "ipython",
    "version": 3
   },
   "file_extension": ".py",
   "mimetype": "text/x-python",
   "name": "python",
   "nbconvert_exporter": "python",
   "pygments_lexer": "ipython3",
   "version": "3.11.4"
  }
 },
 "nbformat": 4,
 "nbformat_minor": 5
}
